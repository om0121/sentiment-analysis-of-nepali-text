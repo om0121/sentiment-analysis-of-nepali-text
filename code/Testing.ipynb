{
 "cells": [
  {
   "cell_type": "code",
   "execution_count": 1,
   "metadata": {},
   "outputs": [],
   "source": [
    "import string \n",
    "import numpy as np \n",
    "from gensim.models import Word2Vec\n",
    "from Preprocess import NepaliPreprocess\n",
    "from tensorflow.keras.models import load_model\n",
    "from tensorflow.keras.preprocessing.sequence import pad_sequences\n"
   ]
  },
  {
   "cell_type": "code",
   "execution_count": 2,
   "metadata": {},
   "outputs": [],
   "source": [
    "model = load_model(\"p.h5\")"
   ]
  },
  {
   "cell_type": "code",
   "execution_count": 3,
   "metadata": {},
   "outputs": [],
   "source": [
    "\n",
    "model_W2V = Word2Vec.load(\"wv\\processed.word2vec\")\n",
    "\n",
    "nlp = NepaliPreprocess()\n"
   ]
  },
  {
   "cell_type": "code",
   "execution_count": 30,
   "metadata": {},
   "outputs": [
    {
     "data": {
      "text/plain": [
       "[('पारजित', 0.8344995379447937),\n",
       " ('अन्तरले', 0.7899741530418396),\n",
       " ('पराजीत', 0.7890912890434265),\n",
       " ('गोलअन्तरले', 0.7318188548088074),\n",
       " ('पाराजित', 0.723755419254303),\n",
       " ('पराजत', 0.7002905607223511),\n",
       " ('विजयी', 0.6876083612442017),\n",
       " ('विकेटले', 0.6642616391181946),\n",
       " ('हराउँदै', 0.6490686535835266),\n",
       " ('रनले', 0.647609293460846)]"
      ]
     },
     "execution_count": 30,
     "metadata": {},
     "output_type": "execute_result"
    }
   ],
   "source": [
    "model_W2V.wv.most_similar('पराजित')"
   ]
  },
  {
   "cell_type": "code",
   "execution_count": 4,
   "metadata": {},
   "outputs": [],
   "source": [
    "\n",
    "def word2token(word):\n",
    "    try:\n",
    "        return model_W2V.wv.key_to_index[word]\n",
    "    except KeyError:\n",
    "        return 0  \n",
    "# COVERT TOKEN INTO WORD\n",
    "def token2word(token):\n",
    "    return model_W2V.wv.index_to_key[token]"
   ]
  },
  {
   "cell_type": "code",
   "execution_count": 5,
   "metadata": {},
   "outputs": [],
   "source": [
    "translator = str.maketrans('', '', string.punctuation + '–')\n",
    "def prepare_input(text):\n",
    "\n",
    "    preprocessed_Text = nlp.Reg_and_Stemming(text)\n",
    "\n",
    "    translator = str.maketrans('', '', string.punctuation + '–')\n",
    "    news = preprocessed_Text.translate(translator)\n",
    "    words = np.array([word2token(w) for w in news.split(' ')[:40] if w != ''])\n",
    "    input_tokens = []\n",
    "    for idx in words:\n",
    "        input_tokens.append(idx) \n",
    "\n",
    "    set_x = pad_sequences([input_tokens], maxlen=50, padding='pre', value=0)\n",
    "    return set_x"
   ]
  },
  {
   "cell_type": "code",
   "execution_count": 6,
   "metadata": {},
   "outputs": [],
   "source": [
    "def get_CATEGORY(input_Seq):\n",
    "\n",
    "    opt = model.predict(input_Seq)\n",
    "    idx = np.argmax(opt)\n",
    "    category = {'negative': 0,  'positive': 1}\n",
    "    sentiment_class = list(category.keys())[list(category.values()).index(idx)]\n",
    "    return sentiment_class"
   ]
  },
  {
   "cell_type": "code",
   "execution_count": 7,
   "metadata": {},
   "outputs": [
    {
     "name": "stdout",
     "output_type": "stream",
     "text": [
      "negative\n"
     ]
    }
   ],
   "source": [
    "inpuT = \"फिजीको चुनावमा सत्तारुढ दललाई बहुमत\"\n",
    "padded_input = prepare_input(inpuT)\n",
    "result = get_CATEGORY(padded_input)\n",
    "print(result)"
   ]
  },
  {
   "cell_type": "code",
   "execution_count": 9,
   "metadata": {},
   "outputs": [
    {
     "name": "stdout",
     "output_type": "stream",
     "text": [
      "negative\n"
     ]
    }
   ],
   "source": [
    "inpuT = \"गभर्नर महाप्रसाद अधिकारीमाथि सरकारको ज्यादती\"\n",
    "padded_input = prepare_input(inpuT)\n",
    "resut = get_CATEGORY(padded_input)\n",
    "print(resut)"
   ]
  },
  {
   "cell_type": "code",
   "execution_count": 11,
   "metadata": {},
   "outputs": [
    {
     "name": "stdout",
     "output_type": "stream",
     "text": [
      "positive\n"
     ]
    }
   ],
   "source": [
    "inpuT = \"म तिमी प्रती समर्पित छु\"\n",
    "padded_input = prepare_input(inpuT)\n",
    "resut = get_CATEGORY(padded_input)\n",
    "print(resut)"
   ]
  },
  {
   "cell_type": "code",
   "execution_count": 22,
   "metadata": {},
   "outputs": [
    {
     "name": "stdout",
     "output_type": "stream",
     "text": [
      "negative\n"
     ]
    }
   ],
   "source": [
    "inpuT = \"कानुन, न्याय तथा संसदीय मामिलामन्त्री दिलेन्द्रप्रसाद बडूलाई कोरोना संक्रमण भएको छ \"\n",
    "padded_input = prepare_input(inpuT)\n",
    "resut = get_CATEGORY(padded_input)\n",
    "print(resut)"
   ]
  },
  {
   "cell_type": "code",
   "execution_count": 35,
   "metadata": {},
   "outputs": [
    {
     "name": "stdout",
     "output_type": "stream",
     "text": [
      "negative\n"
     ]
    }
   ],
   "source": [
    "inpuT = \"कञ्चनपुरमा करेन्ट लागेर एक जनाकाे मृत्यु\"\n",
    "padded_input = prepare_input(inpuT)\n",
    "resut = get_CATEGORY(padded_input)\n",
    "print(resut)"
   ]
  }
 ],
 "metadata": {
  "interpreter": {
   "hash": "c168273e5adab3e1279990c8f33d9d058b793fa45179bdfb192841ab3905dffa"
  },
  "kernelspec": {
   "display_name": "Python 3.6.5 64-bit ('tf36': conda)",
   "language": "python",
   "name": "python3"
  },
  "language_info": {
   "codemirror_mode": {
    "name": "ipython",
    "version": 3
   },
   "file_extension": ".py",
   "mimetype": "text/x-python",
   "name": "python",
   "nbconvert_exporter": "python",
   "pygments_lexer": "ipython3",
   "version": "3.7.5"
  },
  "orig_nbformat": 2
 },
 "nbformat": 4,
 "nbformat_minor": 2
}
